{
 "cells": [
  {
   "cell_type": "markdown",
   "id": "3d8f16b2",
   "metadata": {},
   "source": [
    "# Importing the required modules for analysis"
   ]
  },
  {
   "cell_type": "code",
   "execution_count": 1,
   "id": "6346fe8a",
   "metadata": {},
   "outputs": [],
   "source": [
    "import numpy as np\n",
    "import pandas as pd\n",
    "import matplotlib.pyplot as plt\n",
    "import seaborn as sns\n",
    "sns.set_style('whitegrid')\n",
    "%matplotlib inline"
   ]
  },
  {
   "cell_type": "code",
   "execution_count": 2,
   "id": "337dc2fb",
   "metadata": {},
   "outputs": [],
   "source": [
    "df = pd.read_csv('Suicides in India 2001-2012.csv') #reading the csv file"
   ]
  },
  {
   "cell_type": "markdown",
   "id": "33b90d69",
   "metadata": {},
   "source": [
    "# Performing Statistical Analysis"
   ]
  },
  {
   "cell_type": "code",
   "execution_count": 3,
   "id": "bc01839b",
   "metadata": {},
   "outputs": [
    {
     "data": {
      "text/html": [
       "<div>\n",
       "<style scoped>\n",
       "    .dataframe tbody tr th:only-of-type {\n",
       "        vertical-align: middle;\n",
       "    }\n",
       "\n",
       "    .dataframe tbody tr th {\n",
       "        vertical-align: top;\n",
       "    }\n",
       "\n",
       "    .dataframe thead th {\n",
       "        text-align: right;\n",
       "    }\n",
       "</style>\n",
       "<table border=\"1\" class=\"dataframe\">\n",
       "  <thead>\n",
       "    <tr style=\"text-align: right;\">\n",
       "      <th></th>\n",
       "      <th>State</th>\n",
       "      <th>Year</th>\n",
       "      <th>Type_code</th>\n",
       "      <th>Type</th>\n",
       "      <th>Gender</th>\n",
       "      <th>Age_group</th>\n",
       "      <th>Total</th>\n",
       "    </tr>\n",
       "  </thead>\n",
       "  <tbody>\n",
       "    <tr>\n",
       "      <th>0</th>\n",
       "      <td>A &amp; N Islands</td>\n",
       "      <td>2001</td>\n",
       "      <td>Causes</td>\n",
       "      <td>Illness (Aids/STD)</td>\n",
       "      <td>Female</td>\n",
       "      <td>0-14</td>\n",
       "      <td>0</td>\n",
       "    </tr>\n",
       "    <tr>\n",
       "      <th>1</th>\n",
       "      <td>A &amp; N Islands</td>\n",
       "      <td>2001</td>\n",
       "      <td>Causes</td>\n",
       "      <td>Bankruptcy or Sudden change in Economic</td>\n",
       "      <td>Female</td>\n",
       "      <td>0-14</td>\n",
       "      <td>0</td>\n",
       "    </tr>\n",
       "    <tr>\n",
       "      <th>2</th>\n",
       "      <td>A &amp; N Islands</td>\n",
       "      <td>2001</td>\n",
       "      <td>Causes</td>\n",
       "      <td>Cancellation/Non-Settlement of Marriage</td>\n",
       "      <td>Female</td>\n",
       "      <td>0-14</td>\n",
       "      <td>0</td>\n",
       "    </tr>\n",
       "    <tr>\n",
       "      <th>3</th>\n",
       "      <td>A &amp; N Islands</td>\n",
       "      <td>2001</td>\n",
       "      <td>Causes</td>\n",
       "      <td>Physical Abuse (Rape/Incest Etc.)</td>\n",
       "      <td>Female</td>\n",
       "      <td>0-14</td>\n",
       "      <td>0</td>\n",
       "    </tr>\n",
       "    <tr>\n",
       "      <th>4</th>\n",
       "      <td>A &amp; N Islands</td>\n",
       "      <td>2001</td>\n",
       "      <td>Causes</td>\n",
       "      <td>Dowry Dispute</td>\n",
       "      <td>Female</td>\n",
       "      <td>0-14</td>\n",
       "      <td>0</td>\n",
       "    </tr>\n",
       "  </tbody>\n",
       "</table>\n",
       "</div>"
      ],
      "text/plain": [
       "           State  Year Type_code                                     Type  \\\n",
       "0  A & N Islands  2001    Causes                       Illness (Aids/STD)   \n",
       "1  A & N Islands  2001    Causes  Bankruptcy or Sudden change in Economic   \n",
       "2  A & N Islands  2001    Causes  Cancellation/Non-Settlement of Marriage   \n",
       "3  A & N Islands  2001    Causes        Physical Abuse (Rape/Incest Etc.)   \n",
       "4  A & N Islands  2001    Causes                            Dowry Dispute   \n",
       "\n",
       "   Gender Age_group  Total  \n",
       "0  Female      0-14      0  \n",
       "1  Female      0-14      0  \n",
       "2  Female      0-14      0  \n",
       "3  Female      0-14      0  \n",
       "4  Female      0-14      0  "
      ]
     },
     "execution_count": 3,
     "metadata": {},
     "output_type": "execute_result"
    }
   ],
   "source": [
    "df.head() #checking the column heads"
   ]
  },
  {
   "cell_type": "code",
   "execution_count": 4,
   "id": "170974ab",
   "metadata": {},
   "outputs": [
    {
     "name": "stdout",
     "output_type": "stream",
     "text": [
      "<class 'pandas.core.frame.DataFrame'>\n",
      "RangeIndex: 237519 entries, 0 to 237518\n",
      "Data columns (total 7 columns):\n",
      " #   Column     Non-Null Count   Dtype \n",
      "---  ------     --------------   ----- \n",
      " 0   State      237519 non-null  object\n",
      " 1   Year       237519 non-null  int64 \n",
      " 2   Type_code  237519 non-null  object\n",
      " 3   Type       237519 non-null  object\n",
      " 4   Gender     237519 non-null  object\n",
      " 5   Age_group  237519 non-null  object\n",
      " 6   Total      237519 non-null  int64 \n",
      "dtypes: int64(2), object(5)\n",
      "memory usage: 12.7+ MB\n"
     ]
    }
   ],
   "source": [
    "df.info()"
   ]
  },
  {
   "cell_type": "code",
   "execution_count": 5,
   "id": "fd11a7b4",
   "metadata": {},
   "outputs": [
    {
     "data": {
      "text/html": [
       "<div>\n",
       "<style scoped>\n",
       "    .dataframe tbody tr th:only-of-type {\n",
       "        vertical-align: middle;\n",
       "    }\n",
       "\n",
       "    .dataframe tbody tr th {\n",
       "        vertical-align: top;\n",
       "    }\n",
       "\n",
       "    .dataframe thead th {\n",
       "        text-align: right;\n",
       "    }\n",
       "</style>\n",
       "<table border=\"1\" class=\"dataframe\">\n",
       "  <thead>\n",
       "    <tr style=\"text-align: right;\">\n",
       "      <th></th>\n",
       "      <th>count</th>\n",
       "      <th>mean</th>\n",
       "      <th>std</th>\n",
       "      <th>min</th>\n",
       "      <th>25%</th>\n",
       "      <th>50%</th>\n",
       "      <th>75%</th>\n",
       "      <th>max</th>\n",
       "    </tr>\n",
       "  </thead>\n",
       "  <tbody>\n",
       "    <tr>\n",
       "      <th>Year</th>\n",
       "      <td>237519.0</td>\n",
       "      <td>2006.500448</td>\n",
       "      <td>3.452240</td>\n",
       "      <td>2001.0</td>\n",
       "      <td>2004.0</td>\n",
       "      <td>2007.0</td>\n",
       "      <td>2010.0</td>\n",
       "      <td>2012.0</td>\n",
       "    </tr>\n",
       "    <tr>\n",
       "      <th>Total</th>\n",
       "      <td>237519.0</td>\n",
       "      <td>55.034477</td>\n",
       "      <td>792.749038</td>\n",
       "      <td>0.0</td>\n",
       "      <td>0.0</td>\n",
       "      <td>0.0</td>\n",
       "      <td>6.0</td>\n",
       "      <td>63343.0</td>\n",
       "    </tr>\n",
       "  </tbody>\n",
       "</table>\n",
       "</div>"
      ],
      "text/plain": [
       "          count         mean         std     min     25%     50%     75%  \\\n",
       "Year   237519.0  2006.500448    3.452240  2001.0  2004.0  2007.0  2010.0   \n",
       "Total  237519.0    55.034477  792.749038     0.0     0.0     0.0     6.0   \n",
       "\n",
       "           max  \n",
       "Year    2012.0  \n",
       "Total  63343.0  "
      ]
     },
     "execution_count": 5,
     "metadata": {},
     "output_type": "execute_result"
    }
   ],
   "source": [
    "df.describe().transpose()"
   ]
  },
  {
   "cell_type": "code",
   "execution_count": 6,
   "id": "622baec9",
   "metadata": {},
   "outputs": [
    {
     "data": {
      "text/plain": [
       "State        0\n",
       "Year         0\n",
       "Type_code    0\n",
       "Type         0\n",
       "Gender       0\n",
       "Age_group    0\n",
       "Total        0\n",
       "dtype: int64"
      ]
     },
     "execution_count": 6,
     "metadata": {},
     "output_type": "execute_result"
    }
   ],
   "source": [
    "df.isnull().sum() #checking for missing values in the data. No missing values found"
   ]
  },
  {
   "cell_type": "markdown",
   "id": "4244eae6",
   "metadata": {},
   "source": [
    "# Data Wrangling "
   ]
  },
  {
   "cell_type": "code",
   "execution_count": 7,
   "id": "b0fe2a5d",
   "metadata": {},
   "outputs": [
    {
     "data": {
      "text/plain": [
       "array(['Causes', 'Education_Status', 'Means_adopted',\n",
       "       'Professional_Profile', 'Social_Status'], dtype=object)"
      ]
     },
     "execution_count": 7,
     "metadata": {},
     "output_type": "execute_result"
    }
   ],
   "source": [
    "df['Type_code'].unique()"
   ]
  },
  {
   "cell_type": "code",
   "execution_count": 8,
   "id": "e83be8cf",
   "metadata": {},
   "outputs": [],
   "source": [
    "df.replace('Delhi (Ut)', 'Delhi', inplace=True) #renaming the state"
   ]
  },
  {
   "cell_type": "code",
   "execution_count": 9,
   "id": "99dd6667",
   "metadata": {},
   "outputs": [],
   "source": [
    "df = df.drop(df[(df.State == 'Total (Uts)') | (df.State == 'Total (All India)') | \n",
    "               (df.State == 'Total (States)')].index)\n",
    "#dropping the irrelevant total state info from the state column"
   ]
  },
  {
   "cell_type": "markdown",
   "id": "8152b5a6",
   "metadata": {},
   "source": [
    "# Exploratory Data Analysis"
   ]
  },
  {
   "cell_type": "code",
   "execution_count": 10,
   "id": "70040a5a",
   "metadata": {},
   "outputs": [],
   "source": [
    "# Dropping rows where total is zero.\n",
    "\n",
    "df = df.drop(df[df.Total==0].index)"
   ]
  },
  {
   "cell_type": "code",
   "execution_count": 11,
   "id": "655bbbb7",
   "metadata": {},
   "outputs": [
    {
     "data": {
      "text/plain": [
       "Andhra Pradesh       5185\n",
       "Karnataka            5115\n",
       "Tamil Nadu           5054\n",
       "Madhya Pradesh       5029\n",
       "Maharashtra          4958\n",
       "Uttar Pradesh        4954\n",
       "Gujarat              4856\n",
       "West Bengal          4596\n",
       "Kerala               4509\n",
       "Chhattisgarh         4368\n",
       "Rajasthan            4324\n",
       "Odisha               4179\n",
       "Assam                3868\n",
       "Haryana              3826\n",
       "Delhi                3324\n",
       "Jharkhand            3210\n",
       "Bihar                3119\n",
       "Punjab               2960\n",
       "Himachal Pradesh     2650\n",
       "Tripura              2451\n",
       "Uttarakhand          2442\n",
       "Goa                  2237\n",
       "Jammu & Kashmir      2159\n",
       "Puducherry           2124\n",
       "Sikkim               1421\n",
       "A & N Islands        1299\n",
       "Meghalaya            1180\n",
       "Chandigarh           1092\n",
       "Arunachal Pradesh    1062\n",
       "D & N Haveli          952\n",
       "Mizoram               786\n",
       "Manipur               609\n",
       "Nagaland              587\n",
       "Daman & Diu           579\n",
       "Lakshadweep            46\n",
       "Name: State, dtype: int64"
      ]
     },
     "execution_count": 11,
     "metadata": {},
     "output_type": "execute_result"
    }
   ],
   "source": [
    "df['State'].value_counts()"
   ]
  },
  {
   "cell_type": "code",
   "execution_count": 12,
   "id": "f66576dc",
   "metadata": {},
   "outputs": [],
   "source": [
    "grp = df.groupby('State')['Total'].sum() #grouping the dataset by states and number of suicides."
   ]
  },
  {
   "cell_type": "code",
   "execution_count": 13,
   "id": "9b0a6931",
   "metadata": {},
   "outputs": [],
   "source": [
    "#creating a dataframe and sorting the values in descending order\n",
    "total_suicides = pd.DataFrame(grp).reset_index().sort_values('Total', ascending = False) \n"
   ]
  },
  {
   "cell_type": "code",
   "execution_count": 14,
   "id": "7267bfeb",
   "metadata": {},
   "outputs": [
    {
     "data": {
      "text/html": [
       "<div>\n",
       "<style scoped>\n",
       "    .dataframe tbody tr th:only-of-type {\n",
       "        vertical-align: middle;\n",
       "    }\n",
       "\n",
       "    .dataframe tbody tr th {\n",
       "        vertical-align: top;\n",
       "    }\n",
       "\n",
       "    .dataframe thead th {\n",
       "        text-align: right;\n",
       "    }\n",
       "</style>\n",
       "<table border=\"1\" class=\"dataframe\">\n",
       "  <thead>\n",
       "    <tr style=\"text-align: right;\">\n",
       "      <th></th>\n",
       "      <th>State</th>\n",
       "      <th>Total</th>\n",
       "    </tr>\n",
       "  </thead>\n",
       "  <tbody>\n",
       "    <tr>\n",
       "      <th>20</th>\n",
       "      <td>Maharashtra</td>\n",
       "      <td>901945</td>\n",
       "    </tr>\n",
       "    <tr>\n",
       "      <th>34</th>\n",
       "      <td>West Bengal</td>\n",
       "      <td>849936</td>\n",
       "    </tr>\n",
       "    <tr>\n",
       "      <th>30</th>\n",
       "      <td>Tamil Nadu</td>\n",
       "      <td>818691</td>\n",
       "    </tr>\n",
       "    <tr>\n",
       "      <th>1</th>\n",
       "      <td>Andhra Pradesh</td>\n",
       "      <td>814059</td>\n",
       "    </tr>\n",
       "    <tr>\n",
       "      <th>16</th>\n",
       "      <td>Karnataka</td>\n",
       "      <td>734825</td>\n",
       "    </tr>\n",
       "    <tr>\n",
       "      <th>17</th>\n",
       "      <td>Kerala</td>\n",
       "      <td>538946</td>\n",
       "    </tr>\n",
       "    <tr>\n",
       "      <th>19</th>\n",
       "      <td>Madhya Pradesh</td>\n",
       "      <td>451535</td>\n",
       "    </tr>\n",
       "    <tr>\n",
       "      <th>11</th>\n",
       "      <td>Gujarat</td>\n",
       "      <td>330858</td>\n",
       "    </tr>\n",
       "    <tr>\n",
       "      <th>6</th>\n",
       "      <td>Chhattisgarh</td>\n",
       "      <td>302354</td>\n",
       "    </tr>\n",
       "    <tr>\n",
       "      <th>25</th>\n",
       "      <td>Odisha</td>\n",
       "      <td>267234</td>\n",
       "    </tr>\n",
       "    <tr>\n",
       "      <th>28</th>\n",
       "      <td>Rajasthan</td>\n",
       "      <td>255134</td>\n",
       "    </tr>\n",
       "    <tr>\n",
       "      <th>32</th>\n",
       "      <td>Uttar Pradesh</td>\n",
       "      <td>233352</td>\n",
       "    </tr>\n",
       "    <tr>\n",
       "      <th>3</th>\n",
       "      <td>Assam</td>\n",
       "      <td>172276</td>\n",
       "    </tr>\n",
       "    <tr>\n",
       "      <th>12</th>\n",
       "      <td>Haryana</td>\n",
       "      <td>147176</td>\n",
       "    </tr>\n",
       "    <tr>\n",
       "      <th>9</th>\n",
       "      <td>Delhi</td>\n",
       "      <td>84272</td>\n",
       "    </tr>\n",
       "    <tr>\n",
       "      <th>15</th>\n",
       "      <td>Jharkhand</td>\n",
       "      <td>49720</td>\n",
       "    </tr>\n",
       "    <tr>\n",
       "      <th>27</th>\n",
       "      <td>Punjab</td>\n",
       "      <td>46350</td>\n",
       "    </tr>\n",
       "    <tr>\n",
       "      <th>4</th>\n",
       "      <td>Bihar</td>\n",
       "      <td>46214</td>\n",
       "    </tr>\n",
       "    <tr>\n",
       "      <th>31</th>\n",
       "      <td>Tripura</td>\n",
       "      <td>45965</td>\n",
       "    </tr>\n",
       "    <tr>\n",
       "      <th>26</th>\n",
       "      <td>Puducherry</td>\n",
       "      <td>32144</td>\n",
       "    </tr>\n",
       "    <tr>\n",
       "      <th>13</th>\n",
       "      <td>Himachal Pradesh</td>\n",
       "      <td>26562</td>\n",
       "    </tr>\n",
       "    <tr>\n",
       "      <th>33</th>\n",
       "      <td>Uttarakhand</td>\n",
       "      <td>18496</td>\n",
       "    </tr>\n",
       "    <tr>\n",
       "      <th>10</th>\n",
       "      <td>Goa</td>\n",
       "      <td>17363</td>\n",
       "    </tr>\n",
       "    <tr>\n",
       "      <th>14</th>\n",
       "      <td>Jammu &amp; Kashmir</td>\n",
       "      <td>14821</td>\n",
       "    </tr>\n",
       "    <tr>\n",
       "      <th>29</th>\n",
       "      <td>Sikkim</td>\n",
       "      <td>9606</td>\n",
       "    </tr>\n",
       "    <tr>\n",
       "      <th>0</th>\n",
       "      <td>A &amp; N Islands</td>\n",
       "      <td>8109</td>\n",
       "    </tr>\n",
       "    <tr>\n",
       "      <th>2</th>\n",
       "      <td>Arunachal Pradesh</td>\n",
       "      <td>6633</td>\n",
       "    </tr>\n",
       "    <tr>\n",
       "      <th>22</th>\n",
       "      <td>Meghalaya</td>\n",
       "      <td>5415</td>\n",
       "    </tr>\n",
       "    <tr>\n",
       "      <th>5</th>\n",
       "      <td>Chandigarh</td>\n",
       "      <td>5164</td>\n",
       "    </tr>\n",
       "    <tr>\n",
       "      <th>23</th>\n",
       "      <td>Mizoram</td>\n",
       "      <td>4154</td>\n",
       "    </tr>\n",
       "    <tr>\n",
       "      <th>7</th>\n",
       "      <td>D &amp; N Haveli</td>\n",
       "      <td>3430</td>\n",
       "    </tr>\n",
       "    <tr>\n",
       "      <th>21</th>\n",
       "      <td>Manipur</td>\n",
       "      <td>2102</td>\n",
       "    </tr>\n",
       "    <tr>\n",
       "      <th>24</th>\n",
       "      <td>Nagaland</td>\n",
       "      <td>1728</td>\n",
       "    </tr>\n",
       "    <tr>\n",
       "      <th>8</th>\n",
       "      <td>Daman &amp; Diu</td>\n",
       "      <td>1391</td>\n",
       "    </tr>\n",
       "    <tr>\n",
       "      <th>18</th>\n",
       "      <td>Lakshadweep</td>\n",
       "      <td>50</td>\n",
       "    </tr>\n",
       "  </tbody>\n",
       "</table>\n",
       "</div>"
      ],
      "text/plain": [
       "                State   Total\n",
       "20        Maharashtra  901945\n",
       "34        West Bengal  849936\n",
       "30         Tamil Nadu  818691\n",
       "1      Andhra Pradesh  814059\n",
       "16          Karnataka  734825\n",
       "17             Kerala  538946\n",
       "19     Madhya Pradesh  451535\n",
       "11            Gujarat  330858\n",
       "6        Chhattisgarh  302354\n",
       "25             Odisha  267234\n",
       "28          Rajasthan  255134\n",
       "32      Uttar Pradesh  233352\n",
       "3               Assam  172276\n",
       "12            Haryana  147176\n",
       "9               Delhi   84272\n",
       "15          Jharkhand   49720\n",
       "27             Punjab   46350\n",
       "4               Bihar   46214\n",
       "31            Tripura   45965\n",
       "26         Puducherry   32144\n",
       "13   Himachal Pradesh   26562\n",
       "33        Uttarakhand   18496\n",
       "10                Goa   17363\n",
       "14    Jammu & Kashmir   14821\n",
       "29             Sikkim    9606\n",
       "0       A & N Islands    8109\n",
       "2   Arunachal Pradesh    6633\n",
       "22          Meghalaya    5415\n",
       "5          Chandigarh    5164\n",
       "23            Mizoram    4154\n",
       "7        D & N Haveli    3430\n",
       "21            Manipur    2102\n",
       "24           Nagaland    1728\n",
       "8         Daman & Diu    1391\n",
       "18        Lakshadweep      50"
      ]
     },
     "execution_count": 14,
     "metadata": {},
     "output_type": "execute_result"
    }
   ],
   "source": [
    "total_suicides"
   ]
  },
  {
   "cell_type": "code",
   "execution_count": 15,
   "id": "f6f93c37",
   "metadata": {},
   "outputs": [
    {
     "data": {
      "text/plain": [
       "[Text(0, 0, 'Maharashtra'),\n",
       " Text(1, 0, 'West Bengal'),\n",
       " Text(2, 0, 'Tamil Nadu'),\n",
       " Text(3, 0, 'Andhra Pradesh'),\n",
       " Text(4, 0, 'Karnataka'),\n",
       " Text(5, 0, 'Kerala'),\n",
       " Text(6, 0, 'Madhya Pradesh'),\n",
       " Text(7, 0, 'Gujarat'),\n",
       " Text(8, 0, 'Chhattisgarh'),\n",
       " Text(9, 0, 'Odisha'),\n",
       " Text(10, 0, 'Rajasthan'),\n",
       " Text(11, 0, 'Uttar Pradesh'),\n",
       " Text(12, 0, 'Assam'),\n",
       " Text(13, 0, 'Haryana'),\n",
       " Text(14, 0, 'Delhi'),\n",
       " Text(15, 0, 'Jharkhand'),\n",
       " Text(16, 0, 'Punjab'),\n",
       " Text(17, 0, 'Bihar'),\n",
       " Text(18, 0, 'Tripura'),\n",
       " Text(19, 0, 'Puducherry'),\n",
       " Text(20, 0, 'Himachal Pradesh'),\n",
       " Text(21, 0, 'Uttarakhand'),\n",
       " Text(22, 0, 'Goa'),\n",
       " Text(23, 0, 'Jammu & Kashmir'),\n",
       " Text(24, 0, 'Sikkim'),\n",
       " Text(25, 0, 'A & N Islands'),\n",
       " Text(26, 0, 'Arunachal Pradesh'),\n",
       " Text(27, 0, 'Meghalaya'),\n",
       " Text(28, 0, 'Chandigarh'),\n",
       " Text(29, 0, 'Mizoram'),\n",
       " Text(30, 0, 'D & N Haveli'),\n",
       " Text(31, 0, 'Manipur'),\n",
       " Text(32, 0, 'Nagaland'),\n",
       " Text(33, 0, 'Daman & Diu'),\n",
       " Text(34, 0, 'Lakshadweep')]"
      ]
     },
     "execution_count": 15,
     "metadata": {},
     "output_type": "execute_result"
    },
    {
     "data": {
      "image/png": "[encoded data removed]",
      "text/plain": [
       "<Figure size 1152x576 with 1 Axes>"
      ]
     },
     "metadata": {
      "needs_background": "light"
     },
     "output_type": "display_data"
    }
   ],
   "source": [
    "# Plotting the frequency distribution of suicides per state.\n",
    "fig , ax = plt.subplots(figsize=(16,8))\n",
    "g = sns.barplot(x = 'State', y = 'Total', data = total_suicides)\n",
    "g.set_xticklabels(g.get_xticklabels(), rotation = 50)\n",
    "\n"
   ]
  },
  {
   "cell_type": "markdown",
   "id": "7bfe75ff",
   "metadata": {},
   "source": [
    "As we can see from the above visualization, the top three states with the highest suicide rates are: Maharashtra, West Bengal and Tamil Nadu."
   ]
  },
  {
   "cell_type": "code",
   "execution_count": 16,
   "id": "b549b675",
   "metadata": {},
   "outputs": [
    {
     "data": {
      "text/html": [
       "<div>\n",
       "<style scoped>\n",
       "    .dataframe tbody tr th:only-of-type {\n",
       "        vertical-align: middle;\n",
       "    }\n",
       "\n",
       "    .dataframe tbody tr th {\n",
       "        vertical-align: top;\n",
       "    }\n",
       "\n",
       "    .dataframe thead th {\n",
       "        text-align: right;\n",
       "    }\n",
       "</style>\n",
       "<table border=\"1\" class=\"dataframe\">\n",
       "  <thead>\n",
       "    <tr style=\"text-align: right;\">\n",
       "      <th></th>\n",
       "      <th>State</th>\n",
       "      <th>Year</th>\n",
       "      <th>Type_code</th>\n",
       "      <th>Type</th>\n",
       "      <th>Gender</th>\n",
       "      <th>Age_group</th>\n",
       "      <th>Total</th>\n",
       "    </tr>\n",
       "  </thead>\n",
       "  <tbody>\n",
       "    <tr>\n",
       "      <th>13</th>\n",
       "      <td>A &amp; N Islands</td>\n",
       "      <td>2001</td>\n",
       "      <td>Causes</td>\n",
       "      <td>Love Affairs</td>\n",
       "      <td>Female</td>\n",
       "      <td>0-14</td>\n",
       "      <td>1</td>\n",
       "    </tr>\n",
       "    <tr>\n",
       "      <th>20</th>\n",
       "      <td>A &amp; N Islands</td>\n",
       "      <td>2001</td>\n",
       "      <td>Causes</td>\n",
       "      <td>Other Causes (Please Specity)</td>\n",
       "      <td>Female</td>\n",
       "      <td>0-14</td>\n",
       "      <td>1</td>\n",
       "    </tr>\n",
       "    <tr>\n",
       "      <th>32</th>\n",
       "      <td>A &amp; N Islands</td>\n",
       "      <td>2001</td>\n",
       "      <td>Causes</td>\n",
       "      <td>Other Prolonged Illness</td>\n",
       "      <td>Male</td>\n",
       "      <td>0-14</td>\n",
       "      <td>1</td>\n",
       "    </tr>\n",
       "    <tr>\n",
       "      <th>47</th>\n",
       "      <td>A &amp; N Islands</td>\n",
       "      <td>2001</td>\n",
       "      <td>Causes</td>\n",
       "      <td>Failure in Examination</td>\n",
       "      <td>Male</td>\n",
       "      <td>0-14</td>\n",
       "      <td>1</td>\n",
       "    </tr>\n",
       "    <tr>\n",
       "      <th>54</th>\n",
       "      <td>A &amp; N Islands</td>\n",
       "      <td>2001</td>\n",
       "      <td>Causes</td>\n",
       "      <td>Other Prolonged Illness</td>\n",
       "      <td>Female</td>\n",
       "      <td>15-29</td>\n",
       "      <td>8</td>\n",
       "    </tr>\n",
       "  </tbody>\n",
       "</table>\n",
       "</div>"
      ],
      "text/plain": [
       "            State  Year Type_code                           Type  Gender  \\\n",
       "13  A & N Islands  2001    Causes                   Love Affairs  Female   \n",
       "20  A & N Islands  2001    Causes  Other Causes (Please Specity)  Female   \n",
       "32  A & N Islands  2001    Causes        Other Prolonged Illness    Male   \n",
       "47  A & N Islands  2001    Causes         Failure in Examination    Male   \n",
       "54  A & N Islands  2001    Causes        Other Prolonged Illness  Female   \n",
       "\n",
       "   Age_group  Total  \n",
       "13      0-14      1  \n",
       "20      0-14      1  \n",
       "32      0-14      1  \n",
       "47      0-14      1  \n",
       "54     15-29      8  "
      ]
     },
     "execution_count": 16,
     "metadata": {},
     "output_type": "execute_result"
    }
   ],
   "source": [
    "df.head()"
   ]
  },
  {
   "cell_type": "code",
   "execution_count": 17,
   "id": "1baf527e",
   "metadata": {},
   "outputs": [
    {
     "data": {
      "text/plain": [
       "2009    8718\n",
       "2010    8713\n",
       "2011    8637\n",
       "2012    8467\n",
       "2002    8377\n",
       "2003    8375\n",
       "2008    8367\n",
       "2005    8353\n",
       "2007    8347\n",
       "2006    8318\n",
       "2001    8309\n",
       "2004    8129\n",
       "Name: Year, dtype: int64"
      ]
     },
     "execution_count": 17,
     "metadata": {},
     "output_type": "execute_result"
    }
   ],
   "source": [
    "df['Year'].value_counts()"
   ]
  },
  {
   "cell_type": "code",
   "execution_count": 18,
   "id": "66a16da6",
   "metadata": {},
   "outputs": [],
   "source": [
    "year = df.groupby('Year')['Total'].sum() #grouping the dataset by year and total number of suicides."
   ]
  },
  {
   "cell_type": "code",
   "execution_count": 19,
   "id": "3514061b",
   "metadata": {},
   "outputs": [
    {
     "data": {
      "text/plain": [
       "Year\n",
       "2001    542440\n",
       "2002    551980\n",
       "2003    554218\n",
       "2004    568349\n",
       "2005    569545\n",
       "2006    590543\n",
       "2007    613119\n",
       "2008    625014\n",
       "2009    635429\n",
       "2010    672926\n",
       "2011    677159\n",
       "2012    647288\n",
       "Name: Total, dtype: int64"
      ]
     },
     "execution_count": 19,
     "metadata": {},
     "output_type": "execute_result"
    }
   ],
   "source": [
    "year"
   ]
  },
  {
   "cell_type": "code",
   "execution_count": 20,
   "id": "00bd681a",
   "metadata": {},
   "outputs": [],
   "source": [
    "#creating a dataframe and sorting the values in descending order for total suicides per year\n",
    "total_suicides_year = pd.DataFrame(year).reset_index().sort_values('Total', ascending = False)"
   ]
  },
  {
   "cell_type": "code",
   "execution_count": 21,
   "id": "8e346815",
   "metadata": {},
   "outputs": [
    {
     "data": {
      "text/html": [
       "<div>\n",
       "<style scoped>\n",
       "    .dataframe tbody tr th:only-of-type {\n",
       "        vertical-align: middle;\n",
       "    }\n",
       "\n",
       "    .dataframe tbody tr th {\n",
       "        vertical-align: top;\n",
       "    }\n",
       "\n",
       "    .dataframe thead th {\n",
       "        text-align: right;\n",
       "    }\n",
       "</style>\n",
       "<table border=\"1\" class=\"dataframe\">\n",
       "  <thead>\n",
       "    <tr style=\"text-align: right;\">\n",
       "      <th></th>\n",
       "      <th>Year</th>\n",
       "      <th>Total</th>\n",
       "    </tr>\n",
       "  </thead>\n",
       "  <tbody>\n",
       "    <tr>\n",
       "      <th>10</th>\n",
       "      <td>2011</td>\n",
       "      <td>677159</td>\n",
       "    </tr>\n",
       "    <tr>\n",
       "      <th>9</th>\n",
       "      <td>2010</td>\n",
       "      <td>672926</td>\n",
       "    </tr>\n",
       "    <tr>\n",
       "      <th>11</th>\n",
       "      <td>2012</td>\n",
       "      <td>647288</td>\n",
       "    </tr>\n",
       "    <tr>\n",
       "      <th>8</th>\n",
       "      <td>2009</td>\n",
       "      <td>635429</td>\n",
       "    </tr>\n",
       "    <tr>\n",
       "      <th>7</th>\n",
       "      <td>2008</td>\n",
       "      <td>625014</td>\n",
       "    </tr>\n",
       "    <tr>\n",
       "      <th>6</th>\n",
       "      <td>2007</td>\n",
       "      <td>613119</td>\n",
       "    </tr>\n",
       "    <tr>\n",
       "      <th>5</th>\n",
       "      <td>2006</td>\n",
       "      <td>590543</td>\n",
       "    </tr>\n",
       "    <tr>\n",
       "      <th>4</th>\n",
       "      <td>2005</td>\n",
       "      <td>569545</td>\n",
       "    </tr>\n",
       "    <tr>\n",
       "      <th>3</th>\n",
       "      <td>2004</td>\n",
       "      <td>568349</td>\n",
       "    </tr>\n",
       "    <tr>\n",
       "      <th>2</th>\n",
       "      <td>2003</td>\n",
       "      <td>554218</td>\n",
       "    </tr>\n",
       "    <tr>\n",
       "      <th>1</th>\n",
       "      <td>2002</td>\n",
       "      <td>551980</td>\n",
       "    </tr>\n",
       "    <tr>\n",
       "      <th>0</th>\n",
       "      <td>2001</td>\n",
       "      <td>542440</td>\n",
       "    </tr>\n",
       "  </tbody>\n",
       "</table>\n",
       "</div>"
      ],
      "text/plain": [
       "    Year   Total\n",
       "10  2011  677159\n",
       "9   2010  672926\n",
       "11  2012  647288\n",
       "8   2009  635429\n",
       "7   2008  625014\n",
       "6   2007  613119\n",
       "5   2006  590543\n",
       "4   2005  569545\n",
       "3   2004  568349\n",
       "2   2003  554218\n",
       "1   2002  551980\n",
       "0   2001  542440"
      ]
     },
     "execution_count": 21,
     "metadata": {},
     "output_type": "execute_result"
    }
   ],
   "source": [
    "total_suicides_year"
   ]
  },
  {
   "cell_type": "code",
   "execution_count": 22,
   "id": "2b4f5fbc",
   "metadata": {},
   "outputs": [
    {
     "data": {
      "image/png": "[encoded data removed]",
      "text/plain": [
       "<Figure size 1152x576 with 1 Axes>"
      ]
     },
     "metadata": {
      "needs_background": "light"
     },
     "output_type": "display_data"
    }
   ],
   "source": [
    "#Plotting the frequency distribution of suicides per year\n",
    "fig, ax = plt.subplots(figsize=(16,8))\n",
    "g = sns.lineplot(x = 'Year', y = 'Total', data = total_suicides_year, palette = 'viridis')\n",
    "\n"
   ]
  },
  {
   "cell_type": "markdown",
   "id": "384d4199",
   "metadata": {},
   "source": [
    "From the above graph, we can clearly observe the trends that the suicide rates were far lower starting from 2002 then it started to rise fairly quickly from 2003 and had a sharp rise from 2005 onwards and continued to increase till 2011(the highest suicide rates), then started dropping from 2012."
   ]
  },
  {
   "cell_type": "code",
   "execution_count": 23,
   "id": "d3baee24",
   "metadata": {},
   "outputs": [
    {
     "data": {
      "text/plain": [
       "15-29     24960\n",
       "30-44     24064\n",
       "45-59     19730\n",
       "60+       13766\n",
       "0-14       9639\n",
       "0-100+     8951\n",
       "Name: Age_group, dtype: int64"
      ]
     },
     "execution_count": 23,
     "metadata": {},
     "output_type": "execute_result"
    }
   ],
   "source": [
    "df['Age_group'].value_counts()"
   ]
  },
  {
   "cell_type": "markdown",
   "id": "88fc9fd1",
   "metadata": {},
   "source": [
    "Removing the 0-100 age from the age group because it's fairly understood that most people die around that age and hence is irrelevant for our analysis."
   ]
  },
  {
   "cell_type": "code",
   "execution_count": 24,
   "id": "8f10f89d",
   "metadata": {},
   "outputs": [],
   "source": [
    "df_age = df[df['Age_group'] != '0-100+']\n",
    "age = df_age.groupby('Age_group')['Total'].sum()"
   ]
  },
  {
   "cell_type": "code",
   "execution_count": 25,
   "id": "9cb5d700",
   "metadata": {},
   "outputs": [],
   "source": [
    "#creating a dataframe and sorting the values in descending order for total suicides per age-group\n",
    "suicides_age = pd.DataFrame(age).reset_index().sort_values('Total', ascending = False)"
   ]
  },
  {
   "cell_type": "code",
   "execution_count": 26,
   "id": "c87a0e20",
   "metadata": {},
   "outputs": [
    {
     "data": {
      "text/html": [
       "<div>\n",
       "<style scoped>\n",
       "    .dataframe tbody tr th:only-of-type {\n",
       "        vertical-align: middle;\n",
       "    }\n",
       "\n",
       "    .dataframe tbody tr th {\n",
       "        vertical-align: top;\n",
       "    }\n",
       "\n",
       "    .dataframe thead th {\n",
       "        text-align: right;\n",
       "    }\n",
       "</style>\n",
       "<table border=\"1\" class=\"dataframe\">\n",
       "  <thead>\n",
       "    <tr style=\"text-align: right;\">\n",
       "      <th></th>\n",
       "      <th>Age_group</th>\n",
       "      <th>Total</th>\n",
       "    </tr>\n",
       "  </thead>\n",
       "  <tbody>\n",
       "    <tr>\n",
       "      <th>1</th>\n",
       "      <td>15-29</td>\n",
       "      <td>1534037</td>\n",
       "    </tr>\n",
       "    <tr>\n",
       "      <th>2</th>\n",
       "      <td>30-44</td>\n",
       "      <td>1471599</td>\n",
       "    </tr>\n",
       "    <tr>\n",
       "      <th>3</th>\n",
       "      <td>45-59</td>\n",
       "      <td>885177</td>\n",
       "    </tr>\n",
       "    <tr>\n",
       "      <th>4</th>\n",
       "      <td>60+</td>\n",
       "      <td>346925</td>\n",
       "    </tr>\n",
       "    <tr>\n",
       "      <th>0</th>\n",
       "      <td>0-14</td>\n",
       "      <td>98410</td>\n",
       "    </tr>\n",
       "  </tbody>\n",
       "</table>\n",
       "</div>"
      ],
      "text/plain": [
       "  Age_group    Total\n",
       "1     15-29  1534037\n",
       "2     30-44  1471599\n",
       "3     45-59   885177\n",
       "4       60+   346925\n",
       "0      0-14    98410"
      ]
     },
     "execution_count": 26,
     "metadata": {},
     "output_type": "execute_result"
    }
   ],
   "source": [
    "suicides_age"
   ]
  },
  {
   "cell_type": "code",
   "execution_count": 27,
   "id": "dab5f106",
   "metadata": {},
   "outputs": [
    {
     "data": {
      "text/plain": [
       "[Text(0, 0, '15-29'),\n",
       " Text(1, 0, '30-44'),\n",
       " Text(2, 0, '45-59'),\n",
       " Text(3, 0, '60+'),\n",
       " Text(4, 0, '0-14')]"
      ]
     },
     "execution_count": 27,
     "metadata": {},
     "output_type": "execute_result"
    },
    {
     "data": {
      "image/png": "[encoded data removed]",
      "text/plain": [
       "<Figure size 1152x576 with 1 Axes>"
      ]
     },
     "metadata": {
      "needs_background": "light"
     },
     "output_type": "display_data"
    }
   ],
   "source": [
    "#Plotting the frequency distribution of suicides per age-group\n",
    "fig, ax = plt.subplots(figsize=(16,8))\n",
    "g = sns.barplot(x = 'Age_group', y = 'Total', data = suicides_age, palette = 'viridis')\n",
    "g.set_xticklabels(g.get_xticklabels(), rotation = 50)"
   ]
  },
  {
   "cell_type": "markdown",
   "id": "d190c573",
   "metadata": {},
   "source": [
    " From the above graph, we can clealry see that the age group between 15-29 was at the top to have committed suicides."
   ]
  },
  {
   "cell_type": "code",
   "execution_count": 28,
   "id": "bb79da01",
   "metadata": {},
   "outputs": [
    {
     "data": {
      "text/html": [
       "<div>\n",
       "<style scoped>\n",
       "    .dataframe tbody tr th:only-of-type {\n",
       "        vertical-align: middle;\n",
       "    }\n",
       "\n",
       "    .dataframe tbody tr th {\n",
       "        vertical-align: top;\n",
       "    }\n",
       "\n",
       "    .dataframe thead th {\n",
       "        text-align: right;\n",
       "    }\n",
       "</style>\n",
       "<table border=\"1\" class=\"dataframe\">\n",
       "  <thead>\n",
       "    <tr style=\"text-align: right;\">\n",
       "      <th></th>\n",
       "      <th>State</th>\n",
       "      <th>Year</th>\n",
       "      <th>Type_code</th>\n",
       "      <th>Type</th>\n",
       "      <th>Gender</th>\n",
       "      <th>Age_group</th>\n",
       "      <th>Total</th>\n",
       "    </tr>\n",
       "  </thead>\n",
       "  <tbody>\n",
       "    <tr>\n",
       "      <th>13</th>\n",
       "      <td>A &amp; N Islands</td>\n",
       "      <td>2001</td>\n",
       "      <td>Causes</td>\n",
       "      <td>Love Affairs</td>\n",
       "      <td>Female</td>\n",
       "      <td>0-14</td>\n",
       "      <td>1</td>\n",
       "    </tr>\n",
       "    <tr>\n",
       "      <th>20</th>\n",
       "      <td>A &amp; N Islands</td>\n",
       "      <td>2001</td>\n",
       "      <td>Causes</td>\n",
       "      <td>Other Causes (Please Specity)</td>\n",
       "      <td>Female</td>\n",
       "      <td>0-14</td>\n",
       "      <td>1</td>\n",
       "    </tr>\n",
       "    <tr>\n",
       "      <th>32</th>\n",
       "      <td>A &amp; N Islands</td>\n",
       "      <td>2001</td>\n",
       "      <td>Causes</td>\n",
       "      <td>Other Prolonged Illness</td>\n",
       "      <td>Male</td>\n",
       "      <td>0-14</td>\n",
       "      <td>1</td>\n",
       "    </tr>\n",
       "    <tr>\n",
       "      <th>47</th>\n",
       "      <td>A &amp; N Islands</td>\n",
       "      <td>2001</td>\n",
       "      <td>Causes</td>\n",
       "      <td>Failure in Examination</td>\n",
       "      <td>Male</td>\n",
       "      <td>0-14</td>\n",
       "      <td>1</td>\n",
       "    </tr>\n",
       "    <tr>\n",
       "      <th>54</th>\n",
       "      <td>A &amp; N Islands</td>\n",
       "      <td>2001</td>\n",
       "      <td>Causes</td>\n",
       "      <td>Other Prolonged Illness</td>\n",
       "      <td>Female</td>\n",
       "      <td>15-29</td>\n",
       "      <td>8</td>\n",
       "    </tr>\n",
       "  </tbody>\n",
       "</table>\n",
       "</div>"
      ],
      "text/plain": [
       "            State  Year Type_code                           Type  Gender  \\\n",
       "13  A & N Islands  2001    Causes                   Love Affairs  Female   \n",
       "20  A & N Islands  2001    Causes  Other Causes (Please Specity)  Female   \n",
       "32  A & N Islands  2001    Causes        Other Prolonged Illness    Male   \n",
       "47  A & N Islands  2001    Causes         Failure in Examination    Male   \n",
       "54  A & N Islands  2001    Causes        Other Prolonged Illness  Female   \n",
       "\n",
       "   Age_group  Total  \n",
       "13      0-14      1  \n",
       "20      0-14      1  \n",
       "32      0-14      1  \n",
       "47      0-14      1  \n",
       "54     15-29      8  "
      ]
     },
     "execution_count": 28,
     "metadata": {},
     "output_type": "execute_result"
    }
   ],
   "source": [
    "df.head()"
   ]
  },
  {
   "cell_type": "code",
   "execution_count": 29,
   "id": "83ebb467",
   "metadata": {},
   "outputs": [
    {
     "data": {
      "text/plain": [
       "<AxesSubplot:xlabel='Gender', ylabel='count'>"
      ]
     },
     "execution_count": 29,
     "metadata": {},
     "output_type": "execute_result"
    },
    {
     "data": {
      "image/png": "[encoded data removed]",
      "text/plain": [
       "<Figure size 432x288 with 1 Axes>"
      ]
     },
     "metadata": {
      "needs_background": "light"
     },
     "output_type": "display_data"
    }
   ],
   "source": [
    "#Plotting the frequency of suicides based on gender\n",
    "sns.countplot(x = 'Gender',data = df)"
   ]
  },
  {
   "cell_type": "markdown",
   "id": "57d929d1",
   "metadata": {},
   "source": [
    "We can see that the males in india have committed more suicides than the females. "
   ]
  },
  {
   "cell_type": "code",
   "execution_count": 30,
   "id": "0ad99114",
   "metadata": {},
   "outputs": [
    {
     "data": {
      "text/plain": [
       "array(['Causes', 'Education_Status', 'Means_adopted',\n",
       "       'Professional_Profile', 'Social_Status'], dtype=object)"
      ]
     },
     "execution_count": 30,
     "metadata": {},
     "output_type": "execute_result"
    }
   ],
   "source": [
    "df[\"Type_code\"].unique()"
   ]
  },
  {
   "cell_type": "markdown",
   "id": "6f47a2ae",
   "metadata": {},
   "source": [
    "Now, let's analyse the different causes and the subcauses associated with it."
   ]
  },
  {
   "cell_type": "code",
   "execution_count": 31,
   "id": "85ec892e",
   "metadata": {},
   "outputs": [],
   "source": [
    "#Breaking down the type codes to different dataframes based on the unqiue types present.\n",
    "cause = df[df['Type_code'] == 'Causes']\n",
    "edu_status = df[df['Type_code'] == 'Education_Status']\n",
    "means_adpt = df[df['Type_code'] == 'Means_adopted']\n",
    "prof = df[df['Type_code'] == 'Professional_Profile']\n",
    "soc_status = df[df['Type_code'] == 'Social_Status']"
   ]
  },
  {
   "cell_type": "code",
   "execution_count": 32,
   "id": "5d93a4fd",
   "metadata": {},
   "outputs": [],
   "source": [
    "#grouping the cause dataset by type and creating a new dataframe for plotting.\n",
    "filter_by_cause = cause.groupby('Type')['Total'].sum()\n",
    "suicide_reasons_cause = pd.DataFrame(filter_by_cause).reset_index().sort_values('Total', ascending = False)"
   ]
  },
  {
   "cell_type": "code",
   "execution_count": 33,
   "id": "f90e1f0d",
   "metadata": {},
   "outputs": [
    {
     "data": {
      "text/html": [
       "<div>\n",
       "<style scoped>\n",
       "    .dataframe tbody tr th:only-of-type {\n",
       "        vertical-align: middle;\n",
       "    }\n",
       "\n",
       "    .dataframe tbody tr th {\n",
       "        vertical-align: top;\n",
       "    }\n",
       "\n",
       "    .dataframe thead th {\n",
       "        text-align: right;\n",
       "    }\n",
       "</style>\n",
       "<table border=\"1\" class=\"dataframe\">\n",
       "  <thead>\n",
       "    <tr style=\"text-align: right;\">\n",
       "      <th></th>\n",
       "      <th>Type</th>\n",
       "      <th>Total</th>\n",
       "    </tr>\n",
       "  </thead>\n",
       "  <tbody>\n",
       "    <tr>\n",
       "      <th>11</th>\n",
       "      <td>Family Problems</td>\n",
       "      <td>341952</td>\n",
       "    </tr>\n",
       "    <tr>\n",
       "      <th>4</th>\n",
       "      <td>Causes Not known</td>\n",
       "      <td>237069</td>\n",
       "    </tr>\n",
       "    <tr>\n",
       "      <th>19</th>\n",
       "      <td>Other Causes (Please Specity)</td>\n",
       "      <td>216050</td>\n",
       "    </tr>\n",
       "    <tr>\n",
       "      <th>20</th>\n",
       "      <td>Other Prolonged Illness</td>\n",
       "      <td>194565</td>\n",
       "    </tr>\n",
       "    <tr>\n",
       "      <th>15</th>\n",
       "      <td>Insanity/Mental Illness</td>\n",
       "      <td>94229</td>\n",
       "    </tr>\n",
       "    <tr>\n",
       "      <th>16</th>\n",
       "      <td>Love Affairs</td>\n",
       "      <td>45039</td>\n",
       "    </tr>\n",
       "    <tr>\n",
       "      <th>0</th>\n",
       "      <td>Bankruptcy or Sudden change in Economic</td>\n",
       "      <td>32755</td>\n",
       "    </tr>\n",
       "    <tr>\n",
       "      <th>23</th>\n",
       "      <td>Poverty</td>\n",
       "      <td>32684</td>\n",
       "    </tr>\n",
       "    <tr>\n",
       "      <th>7</th>\n",
       "      <td>Dowry Dispute</td>\n",
       "      <td>31970</td>\n",
       "    </tr>\n",
       "    <tr>\n",
       "      <th>8</th>\n",
       "      <td>Drug Abuse/Addiction</td>\n",
       "      <td>30046</td>\n",
       "    </tr>\n",
       "    <tr>\n",
       "      <th>27</th>\n",
       "      <td>Unemployment</td>\n",
       "      <td>27365</td>\n",
       "    </tr>\n",
       "    <tr>\n",
       "      <th>9</th>\n",
       "      <td>Failure in Examination</td>\n",
       "      <td>27005</td>\n",
       "    </tr>\n",
       "    <tr>\n",
       "      <th>25</th>\n",
       "      <td>Property Dispute</td>\n",
       "      <td>18652</td>\n",
       "    </tr>\n",
       "    <tr>\n",
       "      <th>26</th>\n",
       "      <td>Suspected/Illicit Relation</td>\n",
       "      <td>14911</td>\n",
       "    </tr>\n",
       "    <tr>\n",
       "      <th>10</th>\n",
       "      <td>Fall in Social Reputation</td>\n",
       "      <td>13464</td>\n",
       "    </tr>\n",
       "    <tr>\n",
       "      <th>24</th>\n",
       "      <td>Professional/Career Problem</td>\n",
       "      <td>12554</td>\n",
       "    </tr>\n",
       "    <tr>\n",
       "      <th>2</th>\n",
       "      <td>Cancellation/Non-Settlement of Marriage</td>\n",
       "      <td>11296</td>\n",
       "    </tr>\n",
       "    <tr>\n",
       "      <th>5</th>\n",
       "      <td>Death of Dear Person</td>\n",
       "      <td>10321</td>\n",
       "    </tr>\n",
       "    <tr>\n",
       "      <th>3</th>\n",
       "      <td>Cancer</td>\n",
       "      <td>9058</td>\n",
       "    </tr>\n",
       "    <tr>\n",
       "      <th>14</th>\n",
       "      <td>Illness (Aids/STD)</td>\n",
       "      <td>8723</td>\n",
       "    </tr>\n",
       "    <tr>\n",
       "      <th>18</th>\n",
       "      <td>Not having Children(Barrenness/Impotency</td>\n",
       "      <td>7822</td>\n",
       "    </tr>\n",
       "    <tr>\n",
       "      <th>21</th>\n",
       "      <td>Paralysis</td>\n",
       "      <td>7286</td>\n",
       "    </tr>\n",
       "    <tr>\n",
       "      <th>6</th>\n",
       "      <td>Divorce</td>\n",
       "      <td>4133</td>\n",
       "    </tr>\n",
       "    <tr>\n",
       "      <th>22</th>\n",
       "      <td>Physical Abuse (Rape/Incest Etc.)</td>\n",
       "      <td>3992</td>\n",
       "    </tr>\n",
       "    <tr>\n",
       "      <th>1</th>\n",
       "      <td>Bankruptcy or Sudden change in Economic Status</td>\n",
       "      <td>2655</td>\n",
       "    </tr>\n",
       "    <tr>\n",
       "      <th>13</th>\n",
       "      <td>Illegitimate Pregnancy</td>\n",
       "      <td>2494</td>\n",
       "    </tr>\n",
       "    <tr>\n",
       "      <th>12</th>\n",
       "      <td>Ideological Causes/Hero Worshipping</td>\n",
       "      <td>2118</td>\n",
       "    </tr>\n",
       "    <tr>\n",
       "      <th>17</th>\n",
       "      <td>Not having Children (Barrenness/Impotency</td>\n",
       "      <td>766</td>\n",
       "    </tr>\n",
       "  </tbody>\n",
       "</table>\n",
       "</div>"
      ],
      "text/plain": [
       "                                              Type   Total\n",
       "11                                 Family Problems  341952\n",
       "4                                 Causes Not known  237069\n",
       "19                   Other Causes (Please Specity)  216050\n",
       "20                         Other Prolonged Illness  194565\n",
       "15                         Insanity/Mental Illness   94229\n",
       "16                                    Love Affairs   45039\n",
       "0          Bankruptcy or Sudden change in Economic   32755\n",
       "23                                         Poverty   32684\n",
       "7                                    Dowry Dispute   31970\n",
       "8                             Drug Abuse/Addiction   30046\n",
       "27                                    Unemployment   27365\n",
       "9                           Failure in Examination   27005\n",
       "25                                Property Dispute   18652\n",
       "26                      Suspected/Illicit Relation   14911\n",
       "10                       Fall in Social Reputation   13464\n",
       "24                     Professional/Career Problem   12554\n",
       "2          Cancellation/Non-Settlement of Marriage   11296\n",
       "5                             Death of Dear Person   10321\n",
       "3                                           Cancer    9058\n",
       "14                              Illness (Aids/STD)    8723\n",
       "18        Not having Children(Barrenness/Impotency    7822\n",
       "21                                       Paralysis    7286\n",
       "6                                          Divorce    4133\n",
       "22               Physical Abuse (Rape/Incest Etc.)    3992\n",
       "1   Bankruptcy or Sudden change in Economic Status    2655\n",
       "13                          Illegitimate Pregnancy    2494\n",
       "12             Ideological Causes/Hero Worshipping    2118\n",
       "17       Not having Children (Barrenness/Impotency     766"
      ]
     },
     "execution_count": 33,
     "metadata": {},
     "output_type": "execute_result"
    }
   ],
   "source": [
    "suicide_reasons_cause"
   ]
  },
  {
   "cell_type": "code",
   "execution_count": 53,
   "id": "3eb68e21",
   "metadata": {},
   "outputs": [
    {
     "data": {
      "text/plain": [
       "[Text(0, 0, 'Family Problems'),\n",
       " Text(1, 0, 'Causes Not known'),\n",
       " Text(2, 0, 'Other Causes (Please Specity)'),\n",
       " Text(3, 0, 'Other Prolonged Illness'),\n",
       " Text(4, 0, 'Insanity/Mental Illness'),\n",
       " Text(5, 0, 'Love Affairs'),\n",
       " Text(6, 0, 'Bankruptcy or Sudden change in Economic'),\n",
       " Text(7, 0, 'Poverty'),\n",
       " Text(8, 0, 'Dowry Dispute'),\n",
       " Text(9, 0, 'Drug Abuse/Addiction'),\n",
       " Text(10, 0, 'Unemployment'),\n",
       " Text(11, 0, 'Failure in Examination'),\n",
       " Text(12, 0, 'Property Dispute'),\n",
       " Text(13, 0, 'Suspected/Illicit Relation'),\n",
       " Text(14, 0, 'Fall in Social Reputation'),\n",
       " Text(15, 0, 'Professional/Career Problem'),\n",
       " Text(16, 0, 'Cancellation/Non-Settlement of Marriage'),\n",
       " Text(17, 0, 'Death of Dear Person'),\n",
       " Text(18, 0, 'Cancer'),\n",
       " Text(19, 0, 'Illness (Aids/STD)'),\n",
       " Text(20, 0, 'Not having Children(Barrenness/Impotency'),\n",
       " Text(21, 0, 'Paralysis'),\n",
       " Text(22, 0, 'Divorce'),\n",
       " Text(23, 0, 'Physical Abuse (Rape/Incest Etc.)'),\n",
       " Text(24, 0, 'Bankruptcy or Sudden change in Economic Status'),\n",
       " Text(25, 0, 'Illegitimate Pregnancy'),\n",
       " Text(26, 0, 'Ideological Causes/Hero Worshipping'),\n",
       " Text(27, 0, 'Not having Children (Barrenness/Impotency')]"
      ]
     },
     "execution_count": 53,
     "metadata": {},
     "output_type": "execute_result"
    },
    {
     "data": {
      "image/png": "[encoded data removed]",
      "text/plain": [
       "<Figure size 1152x576 with 1 Axes>"
      ]
     },
     "metadata": {
      "needs_background": "light"
     },
     "output_type": "display_data"
    }
   ],
   "source": [
    "#plot based on different causes\n",
    "fig, ax = plt.subplots(figsize=(16,8))\n",
    "g = sns.barplot(x = 'Type', y = 'Total', data = suicide_reasons_cause, palette = 'viridis')\n",
    "g.set_xticklabels(g.get_xticklabels(), rotation = 75)"
   ]
  },
  {
   "cell_type": "markdown",
   "id": "4879a311",
   "metadata": {},
   "source": [
    "Family problems comes out to be the top cause for committing suicide."
   ]
  },
  {
   "cell_type": "code",
   "execution_count": 35,
   "id": "23c956c5",
   "metadata": {},
   "outputs": [],
   "source": [
    "#grouping the ed_status dataset by type and creating a new dataframe for plotting.\n",
    "filter_by_edustatus = edu_status.groupby('Type')['Total'].sum()\n",
    "suicide_reasons_edu = pd.DataFrame(filter_by_edustatus).reset_index().sort_values('Total', ascending = False)"
   ]
  },
  {
   "cell_type": "code",
   "execution_count": 36,
   "id": "895a0630",
   "metadata": {},
   "outputs": [
    {
     "data": {
      "text/html": [
       "<div>\n",
       "<style scoped>\n",
       "    .dataframe tbody tr th:only-of-type {\n",
       "        vertical-align: middle;\n",
       "    }\n",
       "\n",
       "    .dataframe tbody tr th {\n",
       "        vertical-align: top;\n",
       "    }\n",
       "\n",
       "    .dataframe thead th {\n",
       "        text-align: right;\n",
       "    }\n",
       "</style>\n",
       "<table border=\"1\" class=\"dataframe\">\n",
       "  <thead>\n",
       "    <tr style=\"text-align: right;\">\n",
       "      <th></th>\n",
       "      <th>Type</th>\n",
       "      <th>Total</th>\n",
       "    </tr>\n",
       "  </thead>\n",
       "  <tbody>\n",
       "    <tr>\n",
       "      <th>7</th>\n",
       "      <td>Primary</td>\n",
       "      <td>362827</td>\n",
       "    </tr>\n",
       "    <tr>\n",
       "      <th>4</th>\n",
       "      <td>Middle</td>\n",
       "      <td>342971</td>\n",
       "    </tr>\n",
       "    <tr>\n",
       "      <th>5</th>\n",
       "      <td>No Education</td>\n",
       "      <td>321757</td>\n",
       "    </tr>\n",
       "    <tr>\n",
       "      <th>3</th>\n",
       "      <td>Matriculate/Secondary</td>\n",
       "      <td>256566</td>\n",
       "    </tr>\n",
       "    <tr>\n",
       "      <th>2</th>\n",
       "      <td>Hr. Secondary/Intermediate/Pre-Universit</td>\n",
       "      <td>118908</td>\n",
       "    </tr>\n",
       "    <tr>\n",
       "      <th>1</th>\n",
       "      <td>Graduate</td>\n",
       "      <td>31274</td>\n",
       "    </tr>\n",
       "    <tr>\n",
       "      <th>0</th>\n",
       "      <td>Diploma</td>\n",
       "      <td>14153</td>\n",
       "    </tr>\n",
       "    <tr>\n",
       "      <th>6</th>\n",
       "      <td>Post Graduate and Above</td>\n",
       "      <td>7475</td>\n",
       "    </tr>\n",
       "  </tbody>\n",
       "</table>\n",
       "</div>"
      ],
      "text/plain": [
       "                                       Type   Total\n",
       "7                                   Primary  362827\n",
       "4                                    Middle  342971\n",
       "5                              No Education  321757\n",
       "3                     Matriculate/Secondary  256566\n",
       "2  Hr. Secondary/Intermediate/Pre-Universit  118908\n",
       "1                                  Graduate   31274\n",
       "0                                   Diploma   14153\n",
       "6                   Post Graduate and Above    7475"
      ]
     },
     "execution_count": 36,
     "metadata": {},
     "output_type": "execute_result"
    }
   ],
   "source": [
    "suicide_reasons_edu"
   ]
  },
  {
   "cell_type": "code",
   "execution_count": 37,
   "id": "bf7116f5",
   "metadata": {},
   "outputs": [
    {
     "data": {
      "image/png": "[encoded data removed]",
      "text/plain": [
       "<Figure size 1296x432 with 1 Axes>"
      ]
     },
     "metadata": {
      "needs_background": "light"
     },
     "output_type": "display_data"
    }
   ],
   "source": [
    "#plot based on different education levels\n",
    "fig, ax = plt.subplots(figsize=(18,6))\n",
    "g = sns.barplot(x = 'Type', y = 'Total', data = suicide_reasons_edu, palette = 'viridis')\n",
    "plt.tight_layout()\n"
   ]
  },
  {
   "cell_type": "markdown",
   "id": "ac09f0cb",
   "metadata": {},
   "source": [
    "Primary education status comes out to to be the top in terms of committing suicides followed by middle and no education."
   ]
  },
  {
   "cell_type": "code",
   "execution_count": 38,
   "id": "d86fdef8",
   "metadata": {},
   "outputs": [],
   "source": [
    "#grouping the meansadopt dataset by type and creating a new dataframe for plotting.\n",
    "filter_by_meansadopt = means_adpt.groupby('Type')['Total'].sum()\n",
    "suicide_reason_meansadopt = pd.DataFrame(filter_by_meansadopt).reset_index().sort_values('Total', ascending = False)"
   ]
  },
  {
   "cell_type": "code",
   "execution_count": 39,
   "id": "1d8cb557",
   "metadata": {},
   "outputs": [
    {
     "data": {
      "text/html": [
       "<div>\n",
       "<style scoped>\n",
       "    .dataframe tbody tr th:only-of-type {\n",
       "        vertical-align: middle;\n",
       "    }\n",
       "\n",
       "    .dataframe tbody tr th {\n",
       "        vertical-align: top;\n",
       "    }\n",
       "\n",
       "    .dataframe thead th {\n",
       "        text-align: right;\n",
       "    }\n",
       "</style>\n",
       "<table border=\"1\" class=\"dataframe\">\n",
       "  <thead>\n",
       "    <tr style=\"text-align: right;\">\n",
       "      <th></th>\n",
       "      <th>Type</th>\n",
       "      <th>Total</th>\n",
       "    </tr>\n",
       "  </thead>\n",
       "  <tbody>\n",
       "    <tr>\n",
       "      <th>5</th>\n",
       "      <td>By Hanging</td>\n",
       "      <td>460955</td>\n",
       "    </tr>\n",
       "    <tr>\n",
       "      <th>0</th>\n",
       "      <td>By Consuming Insecticides</td>\n",
       "      <td>275501</td>\n",
       "    </tr>\n",
       "    <tr>\n",
       "      <th>1</th>\n",
       "      <td>By Consuming Other Poison</td>\n",
       "      <td>231178</td>\n",
       "    </tr>\n",
       "    <tr>\n",
       "      <th>11</th>\n",
       "      <td>By Other means (please specify)</td>\n",
       "      <td>135132</td>\n",
       "    </tr>\n",
       "    <tr>\n",
       "      <th>4</th>\n",
       "      <td>By Fire/Self Immolation</td>\n",
       "      <td>128006</td>\n",
       "    </tr>\n",
       "    <tr>\n",
       "      <th>2</th>\n",
       "      <td>By Drowning</td>\n",
       "      <td>96711</td>\n",
       "    </tr>\n",
       "    <tr>\n",
       "      <th>15</th>\n",
       "      <td>By coming under running vehicles/trains</td>\n",
       "      <td>45299</td>\n",
       "    </tr>\n",
       "    <tr>\n",
       "      <th>12</th>\n",
       "      <td>By Over Alcoholism</td>\n",
       "      <td>15973</td>\n",
       "    </tr>\n",
       "    <tr>\n",
       "      <th>16</th>\n",
       "      <td>By touching electric wires</td>\n",
       "      <td>10816</td>\n",
       "    </tr>\n",
       "    <tr>\n",
       "      <th>13</th>\n",
       "      <td>By Overdose of sleeping pills</td>\n",
       "      <td>9960</td>\n",
       "    </tr>\n",
       "    <tr>\n",
       "      <th>10</th>\n",
       "      <td>By Other means</td>\n",
       "      <td>9238</td>\n",
       "    </tr>\n",
       "    <tr>\n",
       "      <th>7</th>\n",
       "      <td>By Jumping from (Other sites)</td>\n",
       "      <td>8127</td>\n",
       "    </tr>\n",
       "    <tr>\n",
       "      <th>8</th>\n",
       "      <td>By Jumping off Moving Vehicles/Trains</td>\n",
       "      <td>8116</td>\n",
       "    </tr>\n",
       "    <tr>\n",
       "      <th>6</th>\n",
       "      <td>By Jumping from (Building)</td>\n",
       "      <td>7871</td>\n",
       "    </tr>\n",
       "    <tr>\n",
       "      <th>3</th>\n",
       "      <td>By Fire-Arms</td>\n",
       "      <td>6294</td>\n",
       "    </tr>\n",
       "    <tr>\n",
       "      <th>14</th>\n",
       "      <td>By Self Infliction of injury</td>\n",
       "      <td>5093</td>\n",
       "    </tr>\n",
       "    <tr>\n",
       "      <th>9</th>\n",
       "      <td>By Machine</td>\n",
       "      <td>1661</td>\n",
       "    </tr>\n",
       "  </tbody>\n",
       "</table>\n",
       "</div>"
      ],
      "text/plain": [
       "                                       Type   Total\n",
       "5                                By Hanging  460955\n",
       "0                 By Consuming Insecticides  275501\n",
       "1                 By Consuming Other Poison  231178\n",
       "11          By Other means (please specify)  135132\n",
       "4                   By Fire/Self Immolation  128006\n",
       "2                               By Drowning   96711\n",
       "15  By coming under running vehicles/trains   45299\n",
       "12                       By Over Alcoholism   15973\n",
       "16               By touching electric wires   10816\n",
       "13            By Overdose of sleeping pills    9960\n",
       "10                           By Other means    9238\n",
       "7             By Jumping from (Other sites)    8127\n",
       "8     By Jumping off Moving Vehicles/Trains    8116\n",
       "6                By Jumping from (Building)    7871\n",
       "3                              By Fire-Arms    6294\n",
       "14             By Self Infliction of injury    5093\n",
       "9                                By Machine    1661"
      ]
     },
     "execution_count": 39,
     "metadata": {},
     "output_type": "execute_result"
    }
   ],
   "source": [
    "suicide_reason_meansadopt"
   ]
  },
  {
   "cell_type": "code",
   "execution_count": 40,
   "id": "1abcb8ae",
   "metadata": {},
   "outputs": [
    {
     "data": {
      "text/plain": [
       "[Text(0, 0, 'By Hanging'),\n",
       " Text(1, 0, 'By Consuming Insecticides'),\n",
       " Text(2, 0, 'By Consuming Other Poison'),\n",
       " Text(3, 0, 'By Other means (please specify)'),\n",
       " Text(4, 0, 'By Fire/Self Immolation'),\n",
       " Text(5, 0, 'By Drowning'),\n",
       " Text(6, 0, 'By coming under running vehicles/trains'),\n",
       " Text(7, 0, 'By Over Alcoholism'),\n",
       " Text(8, 0, 'By touching electric wires'),\n",
       " Text(9, 0, 'By Overdose of sleeping pills'),\n",
       " Text(10, 0, 'By Other means'),\n",
       " Text(11, 0, 'By Jumping from (Other sites)'),\n",
       " Text(12, 0, 'By Jumping off Moving Vehicles/Trains'),\n",
       " Text(13, 0, 'By Jumping from (Building)'),\n",
       " Text(14, 0, 'By Fire-Arms'),\n",
       " Text(15, 0, 'By Self Infliction of injury'),\n",
       " Text(16, 0, 'By Machine')]"
      ]
     },
     "execution_count": 40,
     "metadata": {},
     "output_type": "execute_result"
    },
    {
     "data": {
      "image/png": "[encoded data removed]",
      "text/plain": [
       "<Figure size 1296x432 with 1 Axes>"
      ]
     },
     "metadata": {
      "needs_background": "light"
     },
     "output_type": "display_data"
    }
   ],
   "source": [
    "#plot based on different means adopted for committing suicide\n",
    "fig, ax = plt.subplots(figsize=(18,6))\n",
    "g = sns.barplot(x = 'Type', y = 'Total', data = suicide_reason_meansadopt, palette = 'viridis')\n",
    "g.set_xticklabels(g.get_xticklabels(), rotation = 40)\n"
   ]
  },
  {
   "cell_type": "markdown",
   "id": "4b378761",
   "metadata": {},
   "source": [
    "Death by hanging is the top means adopted by the people for committing suicides followed by consuming insecticides and consuming other poision."
   ]
  },
  {
   "cell_type": "code",
   "execution_count": 41,
   "id": "ef32f3f7",
   "metadata": {},
   "outputs": [],
   "source": [
    "#grouping the professional status dataset by type and creating a new dataframe for plotting.\n",
    "filter_by_prof = prof.groupby('Type')['Total'].sum()\n",
    "suicide_reason_prof = pd.DataFrame(filter_by_prof).reset_index().sort_values('Total', ascending = False)"
   ]
  },
  {
   "cell_type": "code",
   "execution_count": 42,
   "id": "f34f03d3",
   "metadata": {},
   "outputs": [
    {
     "data": {
      "text/html": [
       "<div>\n",
       "<style scoped>\n",
       "    .dataframe tbody tr th:only-of-type {\n",
       "        vertical-align: middle;\n",
       "    }\n",
       "\n",
       "    .dataframe tbody tr th {\n",
       "        vertical-align: top;\n",
       "    }\n",
       "\n",
       "    .dataframe thead th {\n",
       "        text-align: right;\n",
       "    }\n",
       "</style>\n",
       "<table border=\"1\" class=\"dataframe\">\n",
       "  <thead>\n",
       "    <tr style=\"text-align: right;\">\n",
       "      <th></th>\n",
       "      <th>Type</th>\n",
       "      <th>Total</th>\n",
       "    </tr>\n",
       "  </thead>\n",
       "  <tbody>\n",
       "    <tr>\n",
       "      <th>2</th>\n",
       "      <td>Others (Please Specify)</td>\n",
       "      <td>469147</td>\n",
       "    </tr>\n",
       "    <tr>\n",
       "      <th>1</th>\n",
       "      <td>House Wife</td>\n",
       "      <td>285243</td>\n",
       "    </tr>\n",
       "    <tr>\n",
       "      <th>0</th>\n",
       "      <td>Farming/Agriculture Activity</td>\n",
       "      <td>197923</td>\n",
       "    </tr>\n",
       "    <tr>\n",
       "      <th>8</th>\n",
       "      <td>Service (Private)</td>\n",
       "      <td>115472</td>\n",
       "    </tr>\n",
       "    <tr>\n",
       "      <th>10</th>\n",
       "      <td>Unemployed</td>\n",
       "      <td>114374</td>\n",
       "    </tr>\n",
       "    <tr>\n",
       "      <th>6</th>\n",
       "      <td>Self-employed (Business activity)</td>\n",
       "      <td>78112</td>\n",
       "    </tr>\n",
       "    <tr>\n",
       "      <th>9</th>\n",
       "      <td>Student</td>\n",
       "      <td>74323</td>\n",
       "    </tr>\n",
       "    <tr>\n",
       "      <th>3</th>\n",
       "      <td>Professional Activity</td>\n",
       "      <td>39204</td>\n",
       "    </tr>\n",
       "    <tr>\n",
       "      <th>4</th>\n",
       "      <td>Public Sector Undertaking</td>\n",
       "      <td>30786</td>\n",
       "    </tr>\n",
       "    <tr>\n",
       "      <th>7</th>\n",
       "      <td>Service (Government)</td>\n",
       "      <td>23325</td>\n",
       "    </tr>\n",
       "    <tr>\n",
       "      <th>5</th>\n",
       "      <td>Retired Person</td>\n",
       "      <td>11334</td>\n",
       "    </tr>\n",
       "  </tbody>\n",
       "</table>\n",
       "</div>"
      ],
      "text/plain": [
       "                                 Type   Total\n",
       "2             Others (Please Specify)  469147\n",
       "1                          House Wife  285243\n",
       "0        Farming/Agriculture Activity  197923\n",
       "8                   Service (Private)  115472\n",
       "10                         Unemployed  114374\n",
       "6   Self-employed (Business activity)   78112\n",
       "9                             Student   74323\n",
       "3               Professional Activity   39204\n",
       "4           Public Sector Undertaking   30786\n",
       "7                Service (Government)   23325\n",
       "5                      Retired Person   11334"
      ]
     },
     "execution_count": 42,
     "metadata": {},
     "output_type": "execute_result"
    }
   ],
   "source": [
    "suicide_reason_prof"
   ]
  },
  {
   "cell_type": "code",
   "execution_count": 43,
   "id": "964a4228",
   "metadata": {},
   "outputs": [
    {
     "data": {
      "text/plain": [
       "[Text(0, 0, 'Others (Please Specify)'),\n",
       " Text(1, 0, 'House Wife'),\n",
       " Text(2, 0, 'Farming/Agriculture Activity'),\n",
       " Text(3, 0, 'Service (Private)'),\n",
       " Text(4, 0, 'Unemployed'),\n",
       " Text(5, 0, 'Self-employed (Business activity)'),\n",
       " Text(6, 0, 'Student'),\n",
       " Text(7, 0, 'Professional Activity'),\n",
       " Text(8, 0, 'Public Sector Undertaking'),\n",
       " Text(9, 0, 'Service (Government)'),\n",
       " Text(10, 0, 'Retired Person')]"
      ]
     },
     "execution_count": 43,
     "metadata": {},
     "output_type": "execute_result"
    },
    {
     "data": {
      "image/png": "[encoded data removed]",
      "text/plain": [
       "<Figure size 1296x432 with 1 Axes>"
      ]
     },
     "metadata": {
      "needs_background": "light"
     },
     "output_type": "display_data"
    }
   ],
   "source": [
    "#plot based on different professional status of people\n",
    "fig, ax = plt.subplots(figsize=(18,6))\n",
    "g = sns.barplot(x = 'Type', y = 'Total', data = suicide_reason_prof, palette = 'viridis')\n",
    "g.set_xticklabels(g.get_xticklabels(), rotation = 40)"
   ]
  },
  {
   "cell_type": "markdown",
   "id": "4ef4facf",
   "metadata": {},
   "source": [
    "Since other reasons doesn't give us a fair idea about the professional status of people who committed most suicides, we can say that the housewives are at the top in committing suicides in india followed by farmers and private sector employees."
   ]
  },
  {
   "cell_type": "code",
   "execution_count": 44,
   "id": "cd006aa1",
   "metadata": {},
   "outputs": [],
   "source": [
    "#grouping the social_status dataset by type and creating a new dataframe for plotting.\n",
    "filter_by_socstatus = soc_status.groupby('Type')['Total'].sum()\n",
    "suicide_reason_socstatus = pd.DataFrame(filter_by_socstatus).reset_index().sort_values('Total', ascending = False)"
   ]
  },
  {
   "cell_type": "code",
   "execution_count": 45,
   "id": "a047e372",
   "metadata": {},
   "outputs": [
    {
     "data": {
      "text/plain": [
       "[Text(0, 0, 'Married'),\n",
       " Text(1, 0, 'Never Married'),\n",
       " Text(2, 0, 'Widowed/Widower'),\n",
       " Text(3, 0, 'Seperated'),\n",
       " Text(4, 0, 'Divorcee')]"
      ]
     },
     "execution_count": 45,
     "metadata": {},
     "output_type": "execute_result"
    },
    {
     "data": {
      "image/png": "[encoded data removed]",
      "text/plain": [
       "<Figure size 1296x432 with 1 Axes>"
      ]
     },
     "metadata": {
      "needs_background": "light"
     },
     "output_type": "display_data"
    }
   ],
   "source": [
    "#plot based on different social status of people\n",
    "fig, ax = plt.subplots(figsize=(18,6))\n",
    "g = sns.barplot(x = 'Type', y = 'Total', data = suicide_reason_socstatus, palette = 'viridis')\n",
    "g.set_xticklabels(g.get_xticklabels(), rotation = 40)"
   ]
  },
  {
   "cell_type": "markdown",
   "id": "8553e604",
   "metadata": {},
   "source": [
    "Married people committed the highest number of suicides followed by the people who never married."
   ]
  },
  {
   "cell_type": "code",
   "execution_count": 46,
   "id": "650cb221",
   "metadata": {},
   "outputs": [
    {
     "data": {
      "text/plain": [
       "array(['0-14', '15-29', '30-44', '45-59', '60+', '0-100+'], dtype=object)"
      ]
     },
     "execution_count": 46,
     "metadata": {},
     "output_type": "execute_result"
    }
   ],
   "source": [
    "df['Age_group'].unique()"
   ]
  },
  {
   "cell_type": "markdown",
   "id": "96088fb0",
   "metadata": {},
   "source": [
    "Now, lets' do analysis for the reason behind suicides for lower and middle age groups."
   ]
  },
  {
   "cell_type": "code",
   "execution_count": 47,
   "id": "36dc8fa0",
   "metadata": {},
   "outputs": [],
   "source": [
    "lower_age = df[df['Age_group'] == '0-14']\n",
    "lower_age_cause = lower_age[lower_age['Type_code'] == 'Causes']\n",
    "lower_age_df = pd.DataFrame(lower_age_cause).reset_index().sort_values('Total', ascending = False)"
   ]
  },
  {
   "cell_type": "code",
   "execution_count": 48,
   "id": "1121a32c",
   "metadata": {},
   "outputs": [
    {
     "data": {
      "text/plain": [
       "[Text(0, 0, 'Causes Not known'),\n",
       " Text(1, 0, 'Failure in Examination'),\n",
       " Text(2, 0, 'Other Causes (Please Specity)'),\n",
       " Text(3, 0, 'Love Affairs'),\n",
       " Text(4, 0, 'Dowry Dispute'),\n",
       " Text(5, 0, 'Other Prolonged Illness'),\n",
       " Text(6, 0, 'Death of Dear Person'),\n",
       " Text(7, 0, 'Family Problems'),\n",
       " Text(8, 0, 'Insanity/Mental Illness'),\n",
       " Text(9, 0, 'Poverty'),\n",
       " Text(10, 0, 'Fall in Social Reputation'),\n",
       " Text(11, 0, 'Property Dispute'),\n",
       " Text(12, 0, 'Illness (Aids/STD)'),\n",
       " Text(13, 0, 'Suspected/Illicit Relation'),\n",
       " Text(14, 0, 'Physical Abuse (Rape/Incest Etc.)'),\n",
       " Text(15, 0, 'Drug Abuse/Addiction'),\n",
       " Text(16, 0, 'Bankruptcy or Sudden change in Economic'),\n",
       " Text(17, 0, 'Unemployment'),\n",
       " Text(18, 0, 'Illegitimate Pregnancy'),\n",
       " Text(19, 0, 'Paralysis'),\n",
       " Text(20, 0, 'Cancellation/Non-Settlement of Marriage'),\n",
       " Text(21, 0, 'Not having Children(Barrenness/Impotency'),\n",
       " Text(22, 0, 'Cancer'),\n",
       " Text(23, 0, 'Ideological Causes/Hero Worshipping'),\n",
       " Text(24, 0, 'Professional/Career Problem'),\n",
       " Text(25, 0, 'Bankruptcy or Sudden change in Economic Status'),\n",
       " Text(26, 0, 'Divorce'),\n",
       " Text(27, 0, 'Not having Children (Barrenness/Impotency')]"
      ]
     },
     "execution_count": 48,
     "metadata": {},
     "output_type": "execute_result"
    },
    {
     "data": {
      "image/png": "[encoded data removed]",
      "text/plain": [
       "<Figure size 1296x432 with 1 Axes>"
      ]
     },
     "metadata": {
      "needs_background": "light"
     },
     "output_type": "display_data"
    }
   ],
   "source": [
    "fig, ax = plt.subplots(figsize=(18,6))\n",
    "g = sns.barplot(x = 'Type', y = 'Total', data = lower_age_df, palette = 'viridis')\n",
    "g.set_xticklabels(g.get_xticklabels(), rotation = 75)"
   ]
  },
  {
   "cell_type": "markdown",
   "id": "b51859e1",
   "metadata": {},
   "source": [
    "Most of the causes are unknown but failure due to examination remains at the top for the younger age group."
   ]
  },
  {
   "cell_type": "code",
   "execution_count": 49,
   "id": "60df25b2",
   "metadata": {},
   "outputs": [
    {
     "data": {
      "text/html": [
       "<div>\n",
       "<style scoped>\n",
       "    .dataframe tbody tr th:only-of-type {\n",
       "        vertical-align: middle;\n",
       "    }\n",
       "\n",
       "    .dataframe tbody tr th {\n",
       "        vertical-align: top;\n",
       "    }\n",
       "\n",
       "    .dataframe thead th {\n",
       "        text-align: right;\n",
       "    }\n",
       "</style>\n",
       "<table border=\"1\" class=\"dataframe\">\n",
       "  <thead>\n",
       "    <tr style=\"text-align: right;\">\n",
       "      <th></th>\n",
       "      <th>State</th>\n",
       "      <th>Year</th>\n",
       "      <th>Type_code</th>\n",
       "      <th>Type</th>\n",
       "      <th>Gender</th>\n",
       "      <th>Age_group</th>\n",
       "      <th>Total</th>\n",
       "    </tr>\n",
       "  </thead>\n",
       "  <tbody>\n",
       "    <tr>\n",
       "      <th>13</th>\n",
       "      <td>A &amp; N Islands</td>\n",
       "      <td>2001</td>\n",
       "      <td>Causes</td>\n",
       "      <td>Love Affairs</td>\n",
       "      <td>Female</td>\n",
       "      <td>0-14</td>\n",
       "      <td>1</td>\n",
       "    </tr>\n",
       "    <tr>\n",
       "      <th>20</th>\n",
       "      <td>A &amp; N Islands</td>\n",
       "      <td>2001</td>\n",
       "      <td>Causes</td>\n",
       "      <td>Other Causes (Please Specity)</td>\n",
       "      <td>Female</td>\n",
       "      <td>0-14</td>\n",
       "      <td>1</td>\n",
       "    </tr>\n",
       "    <tr>\n",
       "      <th>32</th>\n",
       "      <td>A &amp; N Islands</td>\n",
       "      <td>2001</td>\n",
       "      <td>Causes</td>\n",
       "      <td>Other Prolonged Illness</td>\n",
       "      <td>Male</td>\n",
       "      <td>0-14</td>\n",
       "      <td>1</td>\n",
       "    </tr>\n",
       "    <tr>\n",
       "      <th>47</th>\n",
       "      <td>A &amp; N Islands</td>\n",
       "      <td>2001</td>\n",
       "      <td>Causes</td>\n",
       "      <td>Failure in Examination</td>\n",
       "      <td>Male</td>\n",
       "      <td>0-14</td>\n",
       "      <td>1</td>\n",
       "    </tr>\n",
       "    <tr>\n",
       "      <th>54</th>\n",
       "      <td>A &amp; N Islands</td>\n",
       "      <td>2001</td>\n",
       "      <td>Causes</td>\n",
       "      <td>Other Prolonged Illness</td>\n",
       "      <td>Female</td>\n",
       "      <td>15-29</td>\n",
       "      <td>8</td>\n",
       "    </tr>\n",
       "  </tbody>\n",
       "</table>\n",
       "</div>"
      ],
      "text/plain": [
       "            State  Year Type_code                           Type  Gender  \\\n",
       "13  A & N Islands  2001    Causes                   Love Affairs  Female   \n",
       "20  A & N Islands  2001    Causes  Other Causes (Please Specity)  Female   \n",
       "32  A & N Islands  2001    Causes        Other Prolonged Illness    Male   \n",
       "47  A & N Islands  2001    Causes         Failure in Examination    Male   \n",
       "54  A & N Islands  2001    Causes        Other Prolonged Illness  Female   \n",
       "\n",
       "   Age_group  Total  \n",
       "13      0-14      1  \n",
       "20      0-14      1  \n",
       "32      0-14      1  \n",
       "47      0-14      1  \n",
       "54     15-29      8  "
      ]
     },
     "execution_count": 49,
     "metadata": {},
     "output_type": "execute_result"
    }
   ],
   "source": [
    "df.head()"
   ]
  },
  {
   "cell_type": "code",
   "execution_count": 50,
   "id": "1eaa2fae",
   "metadata": {},
   "outputs": [],
   "source": [
    "middle_age = df[df['Age_group'] == '15-29']\n",
    "middle_age_cause = middle_age[middle_age['Type_code'] == 'Causes']\n",
    "middle_age_df = pd.DataFrame(middle_age_cause).reset_index().sort_values('Total', ascending = False)"
   ]
  },
  {
   "cell_type": "code",
   "execution_count": 51,
   "id": "dfbd833c",
   "metadata": {},
   "outputs": [
    {
     "data": {
      "text/html": [
       "<div>\n",
       "<style scoped>\n",
       "    .dataframe tbody tr th:only-of-type {\n",
       "        vertical-align: middle;\n",
       "    }\n",
       "\n",
       "    .dataframe tbody tr th {\n",
       "        vertical-align: top;\n",
       "    }\n",
       "\n",
       "    .dataframe thead th {\n",
       "        text-align: right;\n",
       "    }\n",
       "</style>\n",
       "<table border=\"1\" class=\"dataframe\">\n",
       "  <thead>\n",
       "    <tr style=\"text-align: right;\">\n",
       "      <th></th>\n",
       "      <th>index</th>\n",
       "      <th>State</th>\n",
       "      <th>Year</th>\n",
       "      <th>Type_code</th>\n",
       "      <th>Type</th>\n",
       "      <th>Gender</th>\n",
       "      <th>Age_group</th>\n",
       "      <th>Total</th>\n",
       "    </tr>\n",
       "  </thead>\n",
       "  <tbody>\n",
       "    <tr>\n",
       "      <th>7092</th>\n",
       "      <td>140911</td>\n",
       "      <td>Maharashtra</td>\n",
       "      <td>2011</td>\n",
       "      <td>Causes</td>\n",
       "      <td>Family Problems</td>\n",
       "      <td>Female</td>\n",
       "      <td>15-29</td>\n",
       "      <td>1406</td>\n",
       "    </tr>\n",
       "    <tr>\n",
       "      <th>7167</th>\n",
       "      <td>141506</td>\n",
       "      <td>Maharashtra</td>\n",
       "      <td>2012</td>\n",
       "      <td>Causes</td>\n",
       "      <td>Family Problems</td>\n",
       "      <td>Male</td>\n",
       "      <td>15-29</td>\n",
       "      <td>1362</td>\n",
       "    </tr>\n",
       "    <tr>\n",
       "      <th>7047</th>\n",
       "      <td>140348</td>\n",
       "      <td>Maharashtra</td>\n",
       "      <td>2010</td>\n",
       "      <td>Causes</td>\n",
       "      <td>Family Problems</td>\n",
       "      <td>Female</td>\n",
       "      <td>15-29</td>\n",
       "      <td>1354</td>\n",
       "    </tr>\n",
       "    <tr>\n",
       "      <th>7120</th>\n",
       "      <td>140942</td>\n",
       "      <td>Maharashtra</td>\n",
       "      <td>2011</td>\n",
       "      <td>Causes</td>\n",
       "      <td>Family Problems</td>\n",
       "      <td>Male</td>\n",
       "      <td>15-29</td>\n",
       "      <td>1354</td>\n",
       "    </tr>\n",
       "    <tr>\n",
       "      <th>11015</th>\n",
       "      <td>233623</td>\n",
       "      <td>West Bengal</td>\n",
       "      <td>2006</td>\n",
       "      <td>Causes</td>\n",
       "      <td>Family Problems</td>\n",
       "      <td>Female</td>\n",
       "      <td>15-29</td>\n",
       "      <td>1329</td>\n",
       "    </tr>\n",
       "    <tr>\n",
       "      <th>...</th>\n",
       "      <td>...</td>\n",
       "      <td>...</td>\n",
       "      <td>...</td>\n",
       "      <td>...</td>\n",
       "      <td>...</td>\n",
       "      <td>...</td>\n",
       "      <td>...</td>\n",
       "      <td>...</td>\n",
       "    </tr>\n",
       "    <tr>\n",
       "      <th>4115</th>\n",
       "      <td>86787</td>\n",
       "      <td>Haryana</td>\n",
       "      <td>2011</td>\n",
       "      <td>Causes</td>\n",
       "      <td>Paralysis</td>\n",
       "      <td>Male</td>\n",
       "      <td>15-29</td>\n",
       "      <td>1</td>\n",
       "    </tr>\n",
       "    <tr>\n",
       "      <th>6404</th>\n",
       "      <td>132980</td>\n",
       "      <td>Madhya Pradesh</td>\n",
       "      <td>2009</td>\n",
       "      <td>Causes</td>\n",
       "      <td>Property Dispute</td>\n",
       "      <td>Female</td>\n",
       "      <td>15-29</td>\n",
       "      <td>1</td>\n",
       "    </tr>\n",
       "    <tr>\n",
       "      <th>4770</th>\n",
       "      <td>103700</td>\n",
       "      <td>Jharkhand</td>\n",
       "      <td>2005</td>\n",
       "      <td>Causes</td>\n",
       "      <td>Professional/Career Problem</td>\n",
       "      <td>Male</td>\n",
       "      <td>15-29</td>\n",
       "      <td>1</td>\n",
       "    </tr>\n",
       "    <tr>\n",
       "      <th>4765</th>\n",
       "      <td>103693</td>\n",
       "      <td>Jharkhand</td>\n",
       "      <td>2005</td>\n",
       "      <td>Causes</td>\n",
       "      <td>Drug Abuse/Addiction</td>\n",
       "      <td>Female</td>\n",
       "      <td>15-29</td>\n",
       "      <td>1</td>\n",
       "    </tr>\n",
       "    <tr>\n",
       "      <th>7105</th>\n",
       "      <td>140924</td>\n",
       "      <td>Maharashtra</td>\n",
       "      <td>2011</td>\n",
       "      <td>Causes</td>\n",
       "      <td>Ideological Causes/Hero Worshipping</td>\n",
       "      <td>Female</td>\n",
       "      <td>15-29</td>\n",
       "      <td>1</td>\n",
       "    </tr>\n",
       "  </tbody>\n",
       "</table>\n",
       "<p>11255 rows × 8 columns</p>\n",
       "</div>"
      ],
      "text/plain": [
       "        index           State  Year Type_code  \\\n",
       "7092   140911     Maharashtra  2011    Causes   \n",
       "7167   141506     Maharashtra  2012    Causes   \n",
       "7047   140348     Maharashtra  2010    Causes   \n",
       "7120   140942     Maharashtra  2011    Causes   \n",
       "11015  233623     West Bengal  2006    Causes   \n",
       "...       ...             ...   ...       ...   \n",
       "4115    86787         Haryana  2011    Causes   \n",
       "6404   132980  Madhya Pradesh  2009    Causes   \n",
       "4770   103700       Jharkhand  2005    Causes   \n",
       "4765   103693       Jharkhand  2005    Causes   \n",
       "7105   140924     Maharashtra  2011    Causes   \n",
       "\n",
       "                                      Type  Gender Age_group  Total  \n",
       "7092                       Family Problems  Female     15-29   1406  \n",
       "7167                       Family Problems    Male     15-29   1362  \n",
       "7047                       Family Problems  Female     15-29   1354  \n",
       "7120                       Family Problems    Male     15-29   1354  \n",
       "11015                      Family Problems  Female     15-29   1329  \n",
       "...                                    ...     ...       ...    ...  \n",
       "4115                             Paralysis    Male     15-29      1  \n",
       "6404                      Property Dispute  Female     15-29      1  \n",
       "4770           Professional/Career Problem    Male     15-29      1  \n",
       "4765                  Drug Abuse/Addiction  Female     15-29      1  \n",
       "7105   Ideological Causes/Hero Worshipping  Female     15-29      1  \n",
       "\n",
       "[11255 rows x 8 columns]"
      ]
     },
     "execution_count": 51,
     "metadata": {},
     "output_type": "execute_result"
    }
   ],
   "source": [
    "middle_age_df"
   ]
  },
  {
   "cell_type": "code",
   "execution_count": 52,
   "id": "f70472e3",
   "metadata": {},
   "outputs": [
    {
     "data": {
      "text/plain": [
       "[Text(0, 0, 'Family Problems'),\n",
       " Text(1, 0, 'Other Causes (Please Specity)'),\n",
       " Text(2, 0, 'Causes Not known'),\n",
       " Text(3, 0, 'Other Prolonged Illness'),\n",
       " Text(4, 0, 'Dowry Dispute'),\n",
       " Text(5, 0, 'Love Affairs'),\n",
       " Text(6, 0, 'Drug Abuse/Addiction'),\n",
       " Text(7, 0, 'Failure in Examination'),\n",
       " Text(8, 0, 'Insanity/Mental Illness'),\n",
       " Text(9, 0, 'Poverty'),\n",
       " Text(10, 0, 'Unemployment'),\n",
       " Text(11, 0, 'Fall in Social Reputation'),\n",
       " Text(12, 0, 'Death of Dear Person'),\n",
       " Text(13, 0, 'Property Dispute'),\n",
       " Text(14, 0, 'Bankruptcy or Sudden change in Economic'),\n",
       " Text(15, 0, 'Illness (Aids/STD)'),\n",
       " Text(16, 0, 'Cancellation/Non-Settlement of Marriage'),\n",
       " Text(17, 0, 'Bankruptcy or Sudden change in Economic Status'),\n",
       " Text(18, 0, 'Suspected/Illicit Relation'),\n",
       " Text(19, 0, 'Professional/Career Problem'),\n",
       " Text(20, 0, 'Physical Abuse (Rape/Incest Etc.)'),\n",
       " Text(21, 0, 'Not having Children(Barrenness/Impotency'),\n",
       " Text(22, 0, 'Illegitimate Pregnancy'),\n",
       " Text(23, 0, 'Not having Children (Barrenness/Impotency'),\n",
       " Text(24, 0, 'Ideological Causes/Hero Worshipping'),\n",
       " Text(25, 0, 'Divorce'),\n",
       " Text(26, 0, 'Cancer'),\n",
       " Text(27, 0, 'Paralysis')]"
      ]
     },
     "execution_count": 52,
     "metadata": {},
     "output_type": "execute_result"
    },
    {
     "data": {
      "image/png": "[encoded data removed]",
      "text/plain": [
       "<Figure size 1296x432 with 1 Axes>"
      ]
     },
     "metadata": {
      "needs_background": "light"
     },
     "output_type": "display_data"
    }
   ],
   "source": [
    "fig, ax = plt.subplots(figsize=(18,6))\n",
    "g = sns.barplot(x = 'Type', y = 'Total', data = middle_age_df, palette = 'viridis')\n",
    "g.set_xticklabels(g.get_xticklabels(), rotation = 75)"
   ]
  },
  {
   "cell_type": "markdown",
   "id": "79f331ac",
   "metadata": {},
   "source": [
    "Family Problems remains at the top as the reason for committing suicides for the middle age population."
   ]
  },
  {
   "cell_type": "code",
   "execution_count": null,
   "id": "8508c2d4",
   "metadata": {},
   "outputs": [],
   "source": []
  }
 ],
 "metadata": {
  "kernelspec": {
   "display_name": "Python 3",
   "language": "python",
   "name": "python3"
  },
  "language_info": {
   "codemirror_mode": {
    "name": "ipython",
    "version": 3
   },
   "file_extension": ".py",
   "mimetype": "text/x-python",
   "name": "python",
   "nbconvert_exporter": "python",
   "pygments_lexer": "ipython3",
   "version": "3.8.8"
  }
 },
 "nbformat": 4,
 "nbformat_minor": 5
}
